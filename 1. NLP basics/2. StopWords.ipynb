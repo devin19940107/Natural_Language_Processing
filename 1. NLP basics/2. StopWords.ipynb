{
 "cells": [
  {
   "cell_type": "markdown",
   "metadata": {},
   "source": [
    "# Stop Words\n",
    "Words like \"a\" and \"the\" appear so frequently that they don't require tagging as thoroughly as nouns, verbs and modifiers. We call these *stop words*, and they can be filtered from the text to be processed. spaCy holds a built-in list of some 326 English stop words.（up till 05/27/2020)"
   ]
  },
  {
   "cell_type": "code",
   "execution_count": 56,
   "metadata": {},
   "outputs": [],
   "source": [
    "# Perform standard imports:\n",
    "import spacy\n",
    "nlp = spacy.load('en_core_web_sm')"
   ]
  },
  {
   "cell_type": "code",
   "execution_count": 57,
   "metadata": {},
   "outputs": [
    {
     "name": "stdout",
     "output_type": "stream",
     "text": [
      "{'’d', 'as', 'when', 'put', 'though', 'beside', 'three', 'either', 'being', 'had', 'our', 'wherever', 'us', 'but', 'my', 'this', 'also', 'we', 'sometime', 'her', 'no', 'might', 'was', 'amount', 'five', '’ll', 'who', 'yourselves', 'everyone', 'doing', 'almost', 'empty', 'himself', 'must', 'noone', 'except', 'more', 'mostly', 'i', 'whatever', 'beyond', 'anything', 'they', 'indeed', 'seem', 'although', 'afterwards', 'done', 'per', 'back', 'namely', 'these', 'all', 'toward', 'above', 'those', 'them', 'down', 'there', 'call', 'four', '’re', 'already', 'anywhere', '‘ve', \"'re\", 'using', 'because', 'last', 'used', 'neither', 'fifteen', 'nothing', 'top', 'part', 'whereby', 'somehow', 'up', 'elsewhere', 'every', 'first', 'hereupon', 'however', 'thus', 'besides', 'below', 'none', 'via', 'well', 'by', 'whether', 'itself', 'move', 'not', 'everywhere', 'their', 'serious', 'an', 'herein', 'myself', 'over', 'ever', 'if', 'least', 'out', 'latter', 'something', 'still', 'until', 'him', 'am', 'fifty', 'why', 'perhaps', 'always', 'another', 'within', 'go', 'at', 'nine', 'name', 'some', 'after', 'during', 'onto', 'say', 'between', 'themselves', 'has', 'bottom', 'please', 'through', 'therein', 'against', 'made', 'side', 'n’t', 'six', 'what', 'own', 'she', 'are', 'you', 'therefore', 'twelve', 'off', 'whoever', 'nor', 'before', 'becoming', 'hence', '’m', 'under', 'behind', 'twenty', '’s', 'alone', 'due', 'how', 'towards', 'yourself', 'mine', 'may', 'forty', '’ve', 'too', 'thence', 'whereupon', 'moreover', 'full', 'former', 'anyhow', 'now', 'around', 'ca', 'he', \"n't\", 'latterly', 'eleven', 'otherwise', 'becomes', 'meanwhile', 'were', 'such', 'wherein', 'eight', 'thereby', 'both', 'than', 'from', 'nowhere', 'someone', 'whom', 'should', 'do', 'on', 'less', '‘ll', 'various', 'a', \"'ll\", 'ours', 'whence', 'to', 'formerly', 'whose', 'his', 'only', 'hereafter', 'beforehand', 'together', 'became', 'while', 'whenever', 'seemed', 'herself', 'everything', 'many', 'the', 'which', 'hers', 'nobody', 're', 'or', 'about', 'nevertheless', 'me', '‘s', 'regarding', '‘m', 'among', 'again', \"'s\", 'one', 'two', 'your', 'anyone', 'and', 'where', \"'ve\", 'for', 'never', 'see', 'often', 'make', 'its', 'can', 'upon', 'other', 'even', 'without', 'same', 'thereupon', 'in', 'that', 'yours', \"'d\", 'give', 'quite', 'hereby', 'very', 'thereafter', 'is', 'further', 'then', 'third', 'have', 'rather', 'become', 'keep', 'ten', 'would', 'here', 'several', 'does', 'across', 'anyway', 'just', 'each', 'whereafter', 'amongst', 'into', 'really', 'so', 'others', 'somewhere', 'seems', 'take', 'cannot', 'get', 'will', 'enough', 'did', 'whole', 'else', 'once', 'since', 'front', '‘re', 'throughout', 'along', 'show', 'most', 'it', 'yet', '‘d', 'been', 'much', 'ourselves', 'hundred', 'whither', 'unless', 'sixty', \"'m\", 'next', 'whereas', 'could', 'thru', 'with', 'n‘t', 'sometimes', 'be', 'seeming', 'few', 'any', 'of'}\n"
     ]
    }
   ],
   "source": [
    "# Print the set of spaCy's default stop words (remember that sets are unordered):\n",
    "print(nlp.Defaults.stop_words)"
   ]
  },
  {
   "cell_type": "code",
   "execution_count": 58,
   "metadata": {},
   "outputs": [
    {
     "data": {
      "text/plain": [
       "326"
      ]
     },
     "execution_count": 58,
     "metadata": {},
     "output_type": "execute_result"
    }
   ],
   "source": [
    "len(nlp.Defaults.stop_words)"
   ]
  },
  {
   "cell_type": "markdown",
   "metadata": {},
   "source": [
    "## To see if a word is a stop word"
   ]
  },
  {
   "cell_type": "code",
   "execution_count": 59,
   "metadata": {},
   "outputs": [
    {
     "data": {
      "text/plain": [
       "True"
      ]
     },
     "execution_count": 59,
     "metadata": {},
     "output_type": "execute_result"
    }
   ],
   "source": [
    "nlp.vocab['myself'].is_stop"
   ]
  },
  {
   "cell_type": "code",
   "execution_count": 60,
   "metadata": {},
   "outputs": [
    {
     "data": {
      "text/plain": [
       "False"
      ]
     },
     "execution_count": 60,
     "metadata": {},
     "output_type": "execute_result"
    }
   ],
   "source": [
    "nlp.vocab['mystery'].is_stop"
   ]
  },
  {
   "cell_type": "markdown",
   "metadata": {},
   "source": [
    "## To add a stop word\n",
    "There may be times when you wish to add a stop word to the default set. Perhaps you decide that `'btw'` (common shorthand for \"by the way\") should be considered a stop word."
   ]
  },
  {
   "cell_type": "code",
   "execution_count": 61,
   "metadata": {},
   "outputs": [],
   "source": [
    "# Add the word to the set of stop words. Use lowercase!\n",
    "nlp.Defaults.stop_words.add('btw')\n",
    "\n",
    "# Set the stop_word tag on the lexeme\n",
    "nlp.vocab['btw'].is_stop = True"
   ]
  },
  {
   "cell_type": "code",
   "execution_count": 62,
   "metadata": {},
   "outputs": [
    {
     "data": {
      "text/plain": [
       "327"
      ]
     },
     "execution_count": 62,
     "metadata": {},
     "output_type": "execute_result"
    }
   ],
   "source": [
    "len(nlp.Defaults.stop_words)"
   ]
  },
  {
   "cell_type": "code",
   "execution_count": 63,
   "metadata": {},
   "outputs": [
    {
     "data": {
      "text/plain": [
       "True"
      ]
     },
     "execution_count": 63,
     "metadata": {},
     "output_type": "execute_result"
    }
   ],
   "source": [
    "nlp.vocab['btw'].is_stop"
   ]
  },
  {
   "cell_type": "markdown",
   "metadata": {},
   "source": [
    "<font color=red>When adding stop words, always use lowercase. Lexemes are converted to lowercase before being added to **vocab**.</font>"
   ]
  },
  {
   "cell_type": "markdown",
   "metadata": {},
   "source": [
    "## To remove a stop word\n",
    "Alternatively, you may decide that `'beyond'` should not be considered a stop word."
   ]
  },
  {
   "cell_type": "code",
   "execution_count": 64,
   "metadata": {},
   "outputs": [],
   "source": [
    "# Remove the word from the set of stop words\n",
    "nlp.Defaults.stop_words.remove('beyond')\n",
    "\n",
    "# Remove the stop_word tag from the lexeme\n",
    "nlp.vocab['beyond'].is_stop = False"
   ]
  },
  {
   "cell_type": "code",
   "execution_count": 65,
   "metadata": {},
   "outputs": [
    {
     "data": {
      "text/plain": [
       "326"
      ]
     },
     "execution_count": 65,
     "metadata": {},
     "output_type": "execute_result"
    }
   ],
   "source": [
    "len(nlp.Defaults.stop_words)"
   ]
  },
  {
   "cell_type": "code",
   "execution_count": 66,
   "metadata": {},
   "outputs": [
    {
     "data": {
      "text/plain": [
       "False"
      ]
     },
     "execution_count": 66,
     "metadata": {},
     "output_type": "execute_result"
    }
   ],
   "source": [
    "nlp.vocab['beyond'].is_stop"
   ]
  },
  {
   "cell_type": "markdown",
   "metadata": {},
   "source": [
    "#### reset to origion version"
   ]
  },
  {
   "cell_type": "code",
   "execution_count": 55,
   "metadata": {},
   "outputs": [],
   "source": [
    "nlp.Defaults.stop_words.add('beyond')\n",
    "nlp.Defaults.stop_words.remove('btw')"
   ]
  }
 ],
 "metadata": {
  "kernelspec": {
   "display_name": "Python 3",
   "language": "python",
   "name": "python3"
  },
  "language_info": {
   "codemirror_mode": {
    "name": "ipython",
    "version": 3
   },
   "file_extension": ".py",
   "mimetype": "text/x-python",
   "name": "python",
   "nbconvert_exporter": "python",
   "pygments_lexer": "ipython3",
   "version": "3.7.1"
  }
 },
 "nbformat": 4,
 "nbformat_minor": 2
}
